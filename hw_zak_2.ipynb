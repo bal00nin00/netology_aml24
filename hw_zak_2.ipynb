{
  "cells": [
    {
      "cell_type": "markdown",
      "id": "3f99b168",
      "metadata": {
        "id": "3f99b168"
      },
      "source": [
        "# Домашнее задание \"Методология ведения DS-проектов\"\n",
        "Dmitry Balynin AML-24"
      ]
    },
    {
      "cell_type": "markdown",
      "id": "9a177f60",
      "metadata": {
        "id": "9a177f60"
      },
      "source": [
        "## 1. Бизнес-анализ\n",
        "#### 1.1 Цель задачи\n",
        "Предсказание качества вина на основании его физико-химических характеристик\n",
        "\n",
        "#### 1.2 Доступные данные\n",
        "На основании описания датасета на сайте Kaggle (см. ссылку выше), а также других открытых источников становится понятно, что текущий набор данных содержит информацию только о физико-химических характеристиках Португальских белых и красных вин Vinho Verde, полученных путем проведения различных лабораторных измерений и тестов. Также для каждого вина представлена информация о его типе (белое или красное) и о том, какую оценку по десятибалльной шкале вино получило от сомелье.\n",
        "Каждый из измеренных в лаборатории параметров так или иначе влияет на вкусовые, цветовые и другие характеристики вин.\n",
        "Степень влияния каждого из признаков может быть оценена в последующем анализе данных.\n",
        "В описании к датасету также особо отмечено, что данные в выборке не являются нормализованными. Значительная часть вин, описанных в датасете, относится к винам среднего качества, а вина плохого или высшего качества встречаются в выборке редко. Это уточнение важно учесть при анализе выбросов в данных, которые с большой долей вероятности могут оказаться не выбросами, а значимыми данными.\n",
        "Также в описании данных указано, что все представленные данные являются релевантными, и поэтому интересными для анализа могут оказаться методы отбора признаков.\n",
        "\n",
        "#### 1.3 Признаки датасета\n",
        "0. type (тип вина: красное или белое)\n",
        "1. fixed acidity (фиксированная кислотность)\n",
        "2. volatile acidity (летучая кислотность)\n",
        "3. citric acid (лимонная кислота)\n",
        "4. residual sugar (остаточный сахар)\n",
        "5. chlorides (хлориды)\n",
        "6. free sulfur dioxide (свободный диоксид серы)\n",
        "7. total sulfur dioxide (суммарный диоксид серы)\n",
        "8. density (плотность)\n",
        "9. pH (pH)\n",
        "10. sulphates (сульфаты)\n",
        "11. alcohol (алкоголь)  \n",
        "\n",
        "Выходные данные:  \n",
        "12. quality (score between 0 and 10) (качество: баллы от 0 до 10)\n",
        "\n",
        "#### Дополнительные комментарии:\n",
        "* Кстати помимо задачи классификации вин по качеству можно попытаться предсказать и тип вина (красное или белое).\n",
        "** После знакомства вот с [таким анализом](https://www.kaggle.com/code/mgmarques/wines-type-and-quality-classification-exercises/notebook) легко развивается комплекс неполноценности\n"
      ]
    },
    {
      "cell_type": "markdown",
      "id": "8c16d029",
      "metadata": {
        "id": "8c16d029"
      },
      "source": [
        "## 2. Анализ данных"
      ]
    },
    {
      "cell_type": "markdown",
      "id": "1a85ef5b",
      "metadata": {
        "id": "1a85ef5b"
      },
      "source": [
        "## 2.1 Импортируем библиотеки"
      ]
    },
    {
      "cell_type": "code",
      "execution_count": 20,
      "id": "334fe6c5",
      "metadata": {
        "id": "334fe6c5"
      },
      "outputs": [],
      "source": [
        "\n",
        "import pandas as pd\n",
        "import numpy as np\n",
        "\n",
        "import seaborn as sns\n",
        " \n",
        "from matplotlib import pyplot as plt\n",
        " \n",
        "from sklearn.linear_model import LinearRegression\n",
        "from sklearn.model_selection import train_test_split"
      ]
    },
    {
      "cell_type": "markdown",
      "id": "53093fac",
      "metadata": {
        "id": "53093fac"
      },
      "source": [
        "#### 2.2 Загружаем данные"
      ]
    },
    {
      "cell_type": "code",
      "execution_count": 21,
      "id": "ceb641d2",
      "metadata": {
        "colab": {
          "resources": {
            "http://localhost:8080/nbextensions/google.colab/files.js": {
              "data": "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",
              "ok": true,
              "headers": [
                [
                  "content-type",
                  "application/javascript"
                ]
              ],
              "status": 200,
              "status_text": ""
            }
          },
          "base_uri": "https://localhost:8080/",
          "height": 74
        },
        "id": "ceb641d2",
        "outputId": "add5de6c-d3b4-4035-f33e-be62a024ebf0"
      },
      "outputs": [
        {
          "output_type": "display_data",
          "data": {
            "text/plain": [
              "<IPython.core.display.HTML object>"
            ],
            "text/html": [
              "\n",
              "     <input type=\"file\" id=\"files-31b232e3-c5e6-4b0b-a614-ce7110e2a87d\" name=\"files[]\" multiple disabled\n",
              "        style=\"border:none\" />\n",
              "     <output id=\"result-31b232e3-c5e6-4b0b-a614-ce7110e2a87d\">\n",
              "      Upload widget is only available when the cell has been executed in the\n",
              "      current browser session. Please rerun this cell to enable.\n",
              "      </output>\n",
              "      <script src=\"/nbextensions/google.colab/files.js\"></script> "
            ]
          },
          "metadata": {}
        },
        {
          "output_type": "stream",
          "name": "stdout",
          "text": [
            "Saving winequalityN.csv to winequalityN (1).csv\n"
          ]
        }
      ],
      "source": [
        "from google.colab import files\n",
        "uploaded = files.upload()"
      ]
    },
    {
      "cell_type": "code",
      "source": [
        "data = pd.read_csv('winequalityN.csv')"
      ],
      "metadata": {
        "id": "Qpx7P_2JThXX"
      },
      "id": "Qpx7P_2JThXX",
      "execution_count": 22,
      "outputs": []
    },
    {
      "cell_type": "markdown",
      "id": "6f4e95f7",
      "metadata": {
        "id": "6f4e95f7"
      },
      "source": [
        "#### 2.3 Анализируем состав параметров и их основные метрики\n",
        "\n",
        "Видим, что колонку с типом вина будет правильно преобразовать в int, видим у некоторых колонок пропуски.\n",
        "\n",
        "Общее количество строк в датасете - 6497"
      ]
    },
    {
      "cell_type": "code",
      "execution_count": 23,
      "id": "d35297a9",
      "metadata": {
        "colab": {
          "base_uri": "https://localhost:8080/",
          "height": 726
        },
        "id": "d35297a9",
        "outputId": "01638e9e-81fa-4f42-be3d-e54bb9e8567d"
      },
      "outputs": [
        {
          "output_type": "stream",
          "name": "stdout",
          "text": [
            "<class 'pandas.core.frame.DataFrame'>\n",
            "RangeIndex: 6497 entries, 0 to 6496\n",
            "Data columns (total 13 columns):\n",
            " #   Column                Non-Null Count  Dtype  \n",
            "---  ------                --------------  -----  \n",
            " 0   type                  6497 non-null   object \n",
            " 1   fixed acidity         6487 non-null   float64\n",
            " 2   volatile acidity      6489 non-null   float64\n",
            " 3   citric acid           6494 non-null   float64\n",
            " 4   residual sugar        6495 non-null   float64\n",
            " 5   chlorides             6495 non-null   float64\n",
            " 6   free sulfur dioxide   6497 non-null   float64\n",
            " 7   total sulfur dioxide  6497 non-null   float64\n",
            " 8   density               6497 non-null   float64\n",
            " 9   pH                    6488 non-null   float64\n",
            " 10  sulphates             6493 non-null   float64\n",
            " 11  alcohol               6497 non-null   float64\n",
            " 12  quality               6497 non-null   int64  \n",
            "dtypes: float64(11), int64(1), object(1)\n",
            "memory usage: 660.0+ KB\n",
            "None\n"
          ]
        },
        {
          "output_type": "execute_result",
          "data": {
            "text/plain": [
              "       fixed acidity  volatile acidity  citric acid  residual sugar  \\\n",
              "count    6487.000000       6489.000000  6494.000000     6495.000000   \n",
              "mean        7.216579          0.339691     0.318722        5.444326   \n",
              "std         1.296750          0.164649     0.145265        4.758125   \n",
              "min         3.800000          0.080000     0.000000        0.600000   \n",
              "25%         6.400000          0.230000     0.250000        1.800000   \n",
              "50%         7.000000          0.290000     0.310000        3.000000   \n",
              "75%         7.700000          0.400000     0.390000        8.100000   \n",
              "max        15.900000          1.580000     1.660000       65.800000   \n",
              "\n",
              "         chlorides  free sulfur dioxide  total sulfur dioxide      density  \\\n",
              "count  6495.000000          6497.000000           6497.000000  6497.000000   \n",
              "mean      0.056042            30.525319            115.744574     0.994697   \n",
              "std       0.035036            17.749400             56.521855     0.002999   \n",
              "min       0.009000             1.000000              6.000000     0.987110   \n",
              "25%       0.038000            17.000000             77.000000     0.992340   \n",
              "50%       0.047000            29.000000            118.000000     0.994890   \n",
              "75%       0.065000            41.000000            156.000000     0.996990   \n",
              "max       0.611000           289.000000            440.000000     1.038980   \n",
              "\n",
              "                pH    sulphates      alcohol      quality  \n",
              "count  6488.000000  6493.000000  6497.000000  6497.000000  \n",
              "mean      3.218395     0.531215    10.491801     5.818378  \n",
              "std       0.160748     0.148814     1.192712     0.873255  \n",
              "min       2.720000     0.220000     8.000000     3.000000  \n",
              "25%       3.110000     0.430000     9.500000     5.000000  \n",
              "50%       3.210000     0.510000    10.300000     6.000000  \n",
              "75%       3.320000     0.600000    11.300000     6.000000  \n",
              "max       4.010000     2.000000    14.900000     9.000000  "
            ],
            "text/html": [
              "\n",
              "  <div id=\"df-8be18a23-ec5a-4b3f-9194-53d4813bd934\">\n",
              "    <div class=\"colab-df-container\">\n",
              "      <div>\n",
              "<style scoped>\n",
              "    .dataframe tbody tr th:only-of-type {\n",
              "        vertical-align: middle;\n",
              "    }\n",
              "\n",
              "    .dataframe tbody tr th {\n",
              "        vertical-align: top;\n",
              "    }\n",
              "\n",
              "    .dataframe thead th {\n",
              "        text-align: right;\n",
              "    }\n",
              "</style>\n",
              "<table border=\"1\" class=\"dataframe\">\n",
              "  <thead>\n",
              "    <tr style=\"text-align: right;\">\n",
              "      <th></th>\n",
              "      <th>fixed acidity</th>\n",
              "      <th>volatile acidity</th>\n",
              "      <th>citric acid</th>\n",
              "      <th>residual sugar</th>\n",
              "      <th>chlorides</th>\n",
              "      <th>free sulfur dioxide</th>\n",
              "      <th>total sulfur dioxide</th>\n",
              "      <th>density</th>\n",
              "      <th>pH</th>\n",
              "      <th>sulphates</th>\n",
              "      <th>alcohol</th>\n",
              "      <th>quality</th>\n",
              "    </tr>\n",
              "  </thead>\n",
              "  <tbody>\n",
              "    <tr>\n",
              "      <th>count</th>\n",
              "      <td>6487.000000</td>\n",
              "      <td>6489.000000</td>\n",
              "      <td>6494.000000</td>\n",
              "      <td>6495.000000</td>\n",
              "      <td>6495.000000</td>\n",
              "      <td>6497.000000</td>\n",
              "      <td>6497.000000</td>\n",
              "      <td>6497.000000</td>\n",
              "      <td>6488.000000</td>\n",
              "      <td>6493.000000</td>\n",
              "      <td>6497.000000</td>\n",
              "      <td>6497.000000</td>\n",
              "    </tr>\n",
              "    <tr>\n",
              "      <th>mean</th>\n",
              "      <td>7.216579</td>\n",
              "      <td>0.339691</td>\n",
              "      <td>0.318722</td>\n",
              "      <td>5.444326</td>\n",
              "      <td>0.056042</td>\n",
              "      <td>30.525319</td>\n",
              "      <td>115.744574</td>\n",
              "      <td>0.994697</td>\n",
              "      <td>3.218395</td>\n",
              "      <td>0.531215</td>\n",
              "      <td>10.491801</td>\n",
              "      <td>5.818378</td>\n",
              "    </tr>\n",
              "    <tr>\n",
              "      <th>std</th>\n",
              "      <td>1.296750</td>\n",
              "      <td>0.164649</td>\n",
              "      <td>0.145265</td>\n",
              "      <td>4.758125</td>\n",
              "      <td>0.035036</td>\n",
              "      <td>17.749400</td>\n",
              "      <td>56.521855</td>\n",
              "      <td>0.002999</td>\n",
              "      <td>0.160748</td>\n",
              "      <td>0.148814</td>\n",
              "      <td>1.192712</td>\n",
              "      <td>0.873255</td>\n",
              "    </tr>\n",
              "    <tr>\n",
              "      <th>min</th>\n",
              "      <td>3.800000</td>\n",
              "      <td>0.080000</td>\n",
              "      <td>0.000000</td>\n",
              "      <td>0.600000</td>\n",
              "      <td>0.009000</td>\n",
              "      <td>1.000000</td>\n",
              "      <td>6.000000</td>\n",
              "      <td>0.987110</td>\n",
              "      <td>2.720000</td>\n",
              "      <td>0.220000</td>\n",
              "      <td>8.000000</td>\n",
              "      <td>3.000000</td>\n",
              "    </tr>\n",
              "    <tr>\n",
              "      <th>25%</th>\n",
              "      <td>6.400000</td>\n",
              "      <td>0.230000</td>\n",
              "      <td>0.250000</td>\n",
              "      <td>1.800000</td>\n",
              "      <td>0.038000</td>\n",
              "      <td>17.000000</td>\n",
              "      <td>77.000000</td>\n",
              "      <td>0.992340</td>\n",
              "      <td>3.110000</td>\n",
              "      <td>0.430000</td>\n",
              "      <td>9.500000</td>\n",
              "      <td>5.000000</td>\n",
              "    </tr>\n",
              "    <tr>\n",
              "      <th>50%</th>\n",
              "      <td>7.000000</td>\n",
              "      <td>0.290000</td>\n",
              "      <td>0.310000</td>\n",
              "      <td>3.000000</td>\n",
              "      <td>0.047000</td>\n",
              "      <td>29.000000</td>\n",
              "      <td>118.000000</td>\n",
              "      <td>0.994890</td>\n",
              "      <td>3.210000</td>\n",
              "      <td>0.510000</td>\n",
              "      <td>10.300000</td>\n",
              "      <td>6.000000</td>\n",
              "    </tr>\n",
              "    <tr>\n",
              "      <th>75%</th>\n",
              "      <td>7.700000</td>\n",
              "      <td>0.400000</td>\n",
              "      <td>0.390000</td>\n",
              "      <td>8.100000</td>\n",
              "      <td>0.065000</td>\n",
              "      <td>41.000000</td>\n",
              "      <td>156.000000</td>\n",
              "      <td>0.996990</td>\n",
              "      <td>3.320000</td>\n",
              "      <td>0.600000</td>\n",
              "      <td>11.300000</td>\n",
              "      <td>6.000000</td>\n",
              "    </tr>\n",
              "    <tr>\n",
              "      <th>max</th>\n",
              "      <td>15.900000</td>\n",
              "      <td>1.580000</td>\n",
              "      <td>1.660000</td>\n",
              "      <td>65.800000</td>\n",
              "      <td>0.611000</td>\n",
              "      <td>289.000000</td>\n",
              "      <td>440.000000</td>\n",
              "      <td>1.038980</td>\n",
              "      <td>4.010000</td>\n",
              "      <td>2.000000</td>\n",
              "      <td>14.900000</td>\n",
              "      <td>9.000000</td>\n",
              "    </tr>\n",
              "  </tbody>\n",
              "</table>\n",
              "</div>\n",
              "      <button class=\"colab-df-convert\" onclick=\"convertToInteractive('df-8be18a23-ec5a-4b3f-9194-53d4813bd934')\"\n",
              "              title=\"Convert this dataframe to an interactive table.\"\n",
              "              style=\"display:none;\">\n",
              "        \n",
              "  <svg xmlns=\"http://www.w3.org/2000/svg\" height=\"24px\"viewBox=\"0 0 24 24\"\n",
              "       width=\"24px\">\n",
              "    <path d=\"M0 0h24v24H0V0z\" fill=\"none\"/>\n",
              "    <path d=\"M18.56 5.44l.94 2.06.94-2.06 2.06-.94-2.06-.94-.94-2.06-.94 2.06-2.06.94zm-11 1L8.5 8.5l.94-2.06 2.06-.94-2.06-.94L8.5 2.5l-.94 2.06-2.06.94zm10 10l.94 2.06.94-2.06 2.06-.94-2.06-.94-.94-2.06-.94 2.06-2.06.94z\"/><path d=\"M17.41 7.96l-1.37-1.37c-.4-.4-.92-.59-1.43-.59-.52 0-1.04.2-1.43.59L10.3 9.45l-7.72 7.72c-.78.78-.78 2.05 0 2.83L4 21.41c.39.39.9.59 1.41.59.51 0 1.02-.2 1.41-.59l7.78-7.78 2.81-2.81c.8-.78.8-2.07 0-2.86zM5.41 20L4 18.59l7.72-7.72 1.47 1.35L5.41 20z\"/>\n",
              "  </svg>\n",
              "      </button>\n",
              "      \n",
              "  <style>\n",
              "    .colab-df-container {\n",
              "      display:flex;\n",
              "      flex-wrap:wrap;\n",
              "      gap: 12px;\n",
              "    }\n",
              "\n",
              "    .colab-df-convert {\n",
              "      background-color: #E8F0FE;\n",
              "      border: none;\n",
              "      border-radius: 50%;\n",
              "      cursor: pointer;\n",
              "      display: none;\n",
              "      fill: #1967D2;\n",
              "      height: 32px;\n",
              "      padding: 0 0 0 0;\n",
              "      width: 32px;\n",
              "    }\n",
              "\n",
              "    .colab-df-convert:hover {\n",
              "      background-color: #E2EBFA;\n",
              "      box-shadow: 0px 1px 2px rgba(60, 64, 67, 0.3), 0px 1px 3px 1px rgba(60, 64, 67, 0.15);\n",
              "      fill: #174EA6;\n",
              "    }\n",
              "\n",
              "    [theme=dark] .colab-df-convert {\n",
              "      background-color: #3B4455;\n",
              "      fill: #D2E3FC;\n",
              "    }\n",
              "\n",
              "    [theme=dark] .colab-df-convert:hover {\n",
              "      background-color: #434B5C;\n",
              "      box-shadow: 0px 1px 3px 1px rgba(0, 0, 0, 0.15);\n",
              "      filter: drop-shadow(0px 1px 2px rgba(0, 0, 0, 0.3));\n",
              "      fill: #FFFFFF;\n",
              "    }\n",
              "  </style>\n",
              "\n",
              "      <script>\n",
              "        const buttonEl =\n",
              "          document.querySelector('#df-8be18a23-ec5a-4b3f-9194-53d4813bd934 button.colab-df-convert');\n",
              "        buttonEl.style.display =\n",
              "          google.colab.kernel.accessAllowed ? 'block' : 'none';\n",
              "\n",
              "        async function convertToInteractive(key) {\n",
              "          const element = document.querySelector('#df-8be18a23-ec5a-4b3f-9194-53d4813bd934');\n",
              "          const dataTable =\n",
              "            await google.colab.kernel.invokeFunction('convertToInteractive',\n",
              "                                                     [key], {});\n",
              "          if (!dataTable) return;\n",
              "\n",
              "          const docLinkHtml = 'Like what you see? Visit the ' +\n",
              "            '<a target=\"_blank\" href=https://colab.research.google.com/notebooks/data_table.ipynb>data table notebook</a>'\n",
              "            + ' to learn more about interactive tables.';\n",
              "          element.innerHTML = '';\n",
              "          dataTable['output_type'] = 'display_data';\n",
              "          await google.colab.output.renderOutput(dataTable, element);\n",
              "          const docLink = document.createElement('div');\n",
              "          docLink.innerHTML = docLinkHtml;\n",
              "          element.appendChild(docLink);\n",
              "        }\n",
              "      </script>\n",
              "    </div>\n",
              "  </div>\n",
              "  "
            ]
          },
          "metadata": {},
          "execution_count": 23
        }
      ],
      "source": [
        "print(data.info())\n",
        "data.describe()"
      ]
    },
    {
      "cell_type": "markdown",
      "id": "eb1ee0bd",
      "metadata": {
        "id": "eb1ee0bd"
      },
      "source": [
        "#### 2.4 Считаем пропуски\n",
        "Посчитаем пропуски и учтем эту информацию на следующем этапе подготовки данных:"
      ]
    },
    {
      "cell_type": "code",
      "execution_count": 24,
      "id": "ec405da6",
      "metadata": {
        "colab": {
          "base_uri": "https://localhost:8080/"
        },
        "id": "ec405da6",
        "outputId": "ba27f58d-c036-4c36-fca8-0fcce6f57593"
      },
      "outputs": [
        {
          "output_type": "stream",
          "name": "stdout",
          "text": [
            "Колонка fixed acidity содержит 10 пустых строк\n",
            "Колонка volatile acidity содержит 8 пустых строк\n",
            "Колонка citric acid содержит 3 пустых строк\n",
            "Колонка residual sugar содержит 2 пустых строк\n",
            "Колонка chlorides содержит 2 пустых строк\n",
            "Колонка pH содержит 9 пустых строк\n",
            "Колонка sulphates содержит 4 пустых строк\n"
          ]
        }
      ],
      "source": [
        "def count_nans(df, col_name):\n",
        "    return len(df[pd.isnull(df[col_name])])\n",
        "\n",
        "for col in data.columns:\n",
        "    empty_vals = count_nans(data, col)\n",
        "    if empty_vals > 0:\n",
        "        print(f'Колонка {col} содержит {empty_vals} пустых строк')"
      ]
    },
    {
      "cell_type": "markdown",
      "id": "3ac2bee1",
      "metadata": {
        "id": "3ac2bee1"
      },
      "source": [
        "#### 2.5 Смотрим распределение целевого параметра\n",
        "Действительно, как и было указано в описании датасета, количество вин низкого и высокого качества незначительно по сравнению с количеством вин среднего качества. Оценки 0, 1, 2 и 10 отсутствуют совсем."
      ]
    },
    {
      "cell_type": "code",
      "execution_count": 25,
      "id": "3a7331c9",
      "metadata": {
        "colab": {
          "base_uri": "https://localhost:8080/"
        },
        "id": "3a7331c9",
        "outputId": "1d86156f-cce1-4db8-c1c4-c0af7d77b0a2"
      },
      "outputs": [
        {
          "output_type": "execute_result",
          "data": {
            "text/plain": [
              "6    2836\n",
              "5    2138\n",
              "7    1079\n",
              "4     216\n",
              "8     193\n",
              "3      30\n",
              "9       5\n",
              "Name: quality, dtype: int64"
            ]
          },
          "metadata": {},
          "execution_count": 25
        }
      ],
      "source": [
        "data.quality.value_counts()"
      ]
    },
    {
      "cell_type": "markdown",
      "id": "d5df13d7",
      "metadata": {
        "id": "d5df13d7"
      },
      "source": [
        "#### 2.6 Тепловая карта параметров включая целевую переменную\n",
        "На этой диаграмме видно, что наибольшее влияние на качество вин оказывают уровень алкоголя и плотность (alcohol - density). При этом видно, что между этими двумя параметрами довольно высок уровень отрицательной корреляции.\n",
        "Также заметно влияние на качество вина, субъективно оцениваемое сомелье, еще двух параметров - летучая кислотность и хлориды (volatile acidity - chlorides).  \n",
        "Параметров, которые можно было бы считать совершенно не значимыми, в данных не видно, минимальный коэффициент корреляции 0.019 наблюдается с уровнем pH"
      ]
    },
    {
      "cell_type": "code",
      "execution_count": 26,
      "id": "eba5c13c",
      "metadata": {
        "colab": {
          "base_uri": "https://localhost:8080/",
          "height": 588
        },
        "id": "eba5c13c",
        "outputId": "51121f54-3768-4b45-fd2d-e01c5db866ce"
      },
      "outputs": [
        {
          "output_type": "execute_result",
          "data": {
            "text/plain": [
              "<matplotlib.axes._subplots.AxesSubplot at 0x7f25db31f190>"
            ]
          },
          "metadata": {},
          "execution_count": 26
        },
        {
          "output_type": "display_data",
          "data": {
            "text/plain": [
              "<Figure size 864x576 with 2 Axes>"
            ],
            "image/png": "[encoded data removed]"
          },
          "metadata": {
            "needs_background": "light"
          }
        }
      ],
      "source": [
        "df = data.copy().drop([\"type\"], axis=1)\n",
        "sns.heatmap(df.corr(), annot = True, center= 0, cmap= 'coolwarm')"
      ]
    },
    {
      "cell_type": "markdown",
      "id": "00ccf3c1",
      "metadata": {
        "id": "00ccf3c1"
      },
      "source": [
        "#### 2.7 Использование boxplot для анализа влияния отдельных параметров на целевой параметр\n",
        "Проверим влияние нескольких параметров на целевой параметр на основании данных, полученных с помощью тепловой карты.  \n",
        "Вначале - влияние двух значимых параметров, потом - одного не значимого."
      ]
    },
    {
      "cell_type": "code",
      "execution_count": 27,
      "id": "89212752",
      "metadata": {
        "colab": {
          "base_uri": "https://localhost:8080/",
          "height": 530
        },
        "id": "89212752",
        "outputId": "83c73c07-5aa6-4ae8-deab-920d0db2a587"
      },
      "outputs": [
        {
          "output_type": "execute_result",
          "data": {
            "text/plain": [
              "<matplotlib.axes._subplots.AxesSubplot at 0x7f25daeff090>"
            ]
          },
          "metadata": {},
          "execution_count": 27
        },
        {
          "output_type": "display_data",
          "data": {
            "text/plain": [
              "<Figure size 864x576 with 1 Axes>"
            ],
            "image/png": "[encoded data removed]"
          },
          "metadata": {
            "needs_background": "light"
          }
        }
      ],
      "source": [
        "# alcogol\n",
        "plt.rcParams['figure.figsize'] = (12.0, 8.0)\n",
        "plt.title('Column alcohol by quality')\n",
        "sns.boxplot(y=data['alcohol'], x=data['quality'])"
      ]
    },
    {
      "cell_type": "code",
      "execution_count": 28,
      "id": "e4020de8",
      "metadata": {
        "colab": {
          "base_uri": "https://localhost:8080/",
          "height": 530
        },
        "id": "e4020de8",
        "outputId": "17ceb0a0-46d5-4a6a-c15e-2b3290520597"
      },
      "outputs": [
        {
          "output_type": "execute_result",
          "data": {
            "text/plain": [
              "<matplotlib.axes._subplots.AxesSubplot at 0x7f25dac15e10>"
            ]
          },
          "metadata": {},
          "execution_count": 28
        },
        {
          "output_type": "display_data",
          "data": {
            "text/plain": [
              "<Figure size 864x576 with 1 Axes>"
            ],
            "image/png": "[encoded data removed]"
          },
          "metadata": {
            "needs_background": "light"
          }
        }
      ],
      "source": [
        "# density\n",
        "plt.rcParams['figure.figsize'] = (12.0, 8.0)\n",
        "plt.title('Column density by quality')\n",
        "sns.boxplot(y=data['density'], x=data['quality'])\n",
        "\n",
        "# На этой диаграмме видны предположительные выбросы для вина, имеющего оценку 6"
      ]
    },
    {
      "cell_type": "code",
      "execution_count": 29,
      "id": "6325a9bc",
      "metadata": {
        "colab": {
          "base_uri": "https://localhost:8080/",
          "height": 530
        },
        "id": "6325a9bc",
        "outputId": "823eaf1d-c6f2-4691-8117-1280a6fdf0bc"
      },
      "outputs": [
        {
          "output_type": "execute_result",
          "data": {
            "text/plain": [
              "<matplotlib.axes._subplots.AxesSubplot at 0x7f25dab53e90>"
            ]
          },
          "metadata": {},
          "execution_count": 29
        },
        {
          "output_type": "display_data",
          "data": {
            "text/plain": [
              "<Figure size 864x576 with 1 Axes>"
            ],
            "image/png": "[encoded data removed]"
          },
          "metadata": {
            "needs_background": "light"
          }
        }
      ],
      "source": [
        "# density\n",
        "plt.rcParams['figure.figsize'] = (12.0, 8.0)\n",
        "plt.title('Column pH by quality')\n",
        "sns.boxplot(y=data['pH'], x=data['quality'])\n"
      ]
    },
    {
      "cell_type": "code",
      "execution_count": 30,
      "id": "fe4d33be",
      "metadata": {
        "colab": {
          "base_uri": "https://localhost:8080/",
          "height": 530
        },
        "id": "fe4d33be",
        "outputId": "a4f3dacd-f07f-4894-bf69-b1ea23ff2a33"
      },
      "outputs": [
        {
          "output_type": "execute_result",
          "data": {
            "text/plain": [
              "<matplotlib.axes._subplots.AxesSubplot at 0x7f25dab2f950>"
            ]
          },
          "metadata": {},
          "execution_count": 30
        },
        {
          "output_type": "display_data",
          "data": {
            "text/plain": [
              "<Figure size 864x576 with 1 Axes>"
            ],
            "image/png": "[encoded data removed]"
          },
          "metadata": {
            "needs_background": "light"
          }
        }
      ],
      "source": [
        "# Еще один эксперимент - смотрим, как связаны тип вина и pH (похоже, связь сильная)\n",
        "plt.rcParams['figure.figsize'] = (12.0, 8.0)\n",
        "plt.title('Column pH by type')\n",
        "sns.boxplot(y=data['pH'], x=data['type'])"
      ]
    },
    {
      "cell_type": "markdown",
      "id": "933824ba",
      "metadata": {
        "id": "933824ba"
      },
      "source": [
        "## 3. Подготовка данных"
      ]
    },
    {
      "cell_type": "markdown",
      "id": "060f6c0e",
      "metadata": {
        "id": "060f6c0e"
      },
      "source": [
        "#### 3.1 Преобразование категориальной переменной type\n",
        "Создаем копию исходного датафрейма (для наглядности и не уделяя должного внимания экономии памяти)"
      ]
    },
    {
      "cell_type": "code",
      "execution_count": 31,
      "id": "4a9687ff",
      "metadata": {
        "colab": {
          "base_uri": "https://localhost:8080/",
          "height": 206
        },
        "id": "4a9687ff",
        "outputId": "6f59bd8a-cc97-4029-e47e-1f5d2afe53ac"
      },
      "outputs": [
        {
          "output_type": "execute_result",
          "data": {
            "text/plain": [
              "   type  fixed acidity  volatile acidity  citric acid  residual sugar  \\\n",
              "0     0            7.0              0.27         0.36            20.7   \n",
              "1     0            6.3              0.30         0.34             1.6   \n",
              "2     0            8.1              0.28         0.40             6.9   \n",
              "3     0            7.2              0.23         0.32             8.5   \n",
              "4     0            7.2              0.23         0.32             8.5   \n",
              "\n",
              "   chlorides  free sulfur dioxide  total sulfur dioxide  density    pH  \\\n",
              "0      0.045                 45.0                 170.0   1.0010  3.00   \n",
              "1      0.049                 14.0                 132.0   0.9940  3.30   \n",
              "2      0.050                 30.0                  97.0   0.9951  3.26   \n",
              "3      0.058                 47.0                 186.0   0.9956  3.19   \n",
              "4      0.058                 47.0                 186.0   0.9956  3.19   \n",
              "\n",
              "   sulphates  alcohol  quality  \n",
              "0       0.45      8.8        6  \n",
              "1       0.49      9.5        6  \n",
              "2       0.44     10.1        6  \n",
              "3       0.40      9.9        6  \n",
              "4       0.40      9.9        6  "
            ],
            "text/html": [
              "\n",
              "  <div id=\"df-e9693575-4f8e-40c7-a1c6-5596517228d5\">\n",
              "    <div class=\"colab-df-container\">\n",
              "      <div>\n",
              "<style scoped>\n",
              "    .dataframe tbody tr th:only-of-type {\n",
              "        vertical-align: middle;\n",
              "    }\n",
              "\n",
              "    .dataframe tbody tr th {\n",
              "        vertical-align: top;\n",
              "    }\n",
              "\n",
              "    .dataframe thead th {\n",
              "        text-align: right;\n",
              "    }\n",
              "</style>\n",
              "<table border=\"1\" class=\"dataframe\">\n",
              "  <thead>\n",
              "    <tr style=\"text-align: right;\">\n",
              "      <th></th>\n",
              "      <th>type</th>\n",
              "      <th>fixed acidity</th>\n",
              "      <th>volatile acidity</th>\n",
              "      <th>citric acid</th>\n",
              "      <th>residual sugar</th>\n",
              "      <th>chlorides</th>\n",
              "      <th>free sulfur dioxide</th>\n",
              "      <th>total sulfur dioxide</th>\n",
              "      <th>density</th>\n",
              "      <th>pH</th>\n",
              "      <th>sulphates</th>\n",
              "      <th>alcohol</th>\n",
              "      <th>quality</th>\n",
              "    </tr>\n",
              "  </thead>\n",
              "  <tbody>\n",
              "    <tr>\n",
              "      <th>0</th>\n",
              "      <td>0</td>\n",
              "      <td>7.0</td>\n",
              "      <td>0.27</td>\n",
              "      <td>0.36</td>\n",
              "      <td>20.7</td>\n",
              "      <td>0.045</td>\n",
              "      <td>45.0</td>\n",
              "      <td>170.0</td>\n",
              "      <td>1.0010</td>\n",
              "      <td>3.00</td>\n",
              "      <td>0.45</td>\n",
              "      <td>8.8</td>\n",
              "      <td>6</td>\n",
              "    </tr>\n",
              "    <tr>\n",
              "      <th>1</th>\n",
              "      <td>0</td>\n",
              "      <td>6.3</td>\n",
              "      <td>0.30</td>\n",
              "      <td>0.34</td>\n",
              "      <td>1.6</td>\n",
              "      <td>0.049</td>\n",
              "      <td>14.0</td>\n",
              "      <td>132.0</td>\n",
              "      <td>0.9940</td>\n",
              "      <td>3.30</td>\n",
              "      <td>0.49</td>\n",
              "      <td>9.5</td>\n",
              "      <td>6</td>\n",
              "    </tr>\n",
              "    <tr>\n",
              "      <th>2</th>\n",
              "      <td>0</td>\n",
              "      <td>8.1</td>\n",
              "      <td>0.28</td>\n",
              "      <td>0.40</td>\n",
              "      <td>6.9</td>\n",
              "      <td>0.050</td>\n",
              "      <td>30.0</td>\n",
              "      <td>97.0</td>\n",
              "      <td>0.9951</td>\n",
              "      <td>3.26</td>\n",
              "      <td>0.44</td>\n",
              "      <td>10.1</td>\n",
              "      <td>6</td>\n",
              "    </tr>\n",
              "    <tr>\n",
              "      <th>3</th>\n",
              "      <td>0</td>\n",
              "      <td>7.2</td>\n",
              "      <td>0.23</td>\n",
              "      <td>0.32</td>\n",
              "      <td>8.5</td>\n",
              "      <td>0.058</td>\n",
              "      <td>47.0</td>\n",
              "      <td>186.0</td>\n",
              "      <td>0.9956</td>\n",
              "      <td>3.19</td>\n",
              "      <td>0.40</td>\n",
              "      <td>9.9</td>\n",
              "      <td>6</td>\n",
              "    </tr>\n",
              "    <tr>\n",
              "      <th>4</th>\n",
              "      <td>0</td>\n",
              "      <td>7.2</td>\n",
              "      <td>0.23</td>\n",
              "      <td>0.32</td>\n",
              "      <td>8.5</td>\n",
              "      <td>0.058</td>\n",
              "      <td>47.0</td>\n",
              "      <td>186.0</td>\n",
              "      <td>0.9956</td>\n",
              "      <td>3.19</td>\n",
              "      <td>0.40</td>\n",
              "      <td>9.9</td>\n",
              "      <td>6</td>\n",
              "    </tr>\n",
              "  </tbody>\n",
              "</table>\n",
              "</div>\n",
              "      <button class=\"colab-df-convert\" onclick=\"convertToInteractive('df-e9693575-4f8e-40c7-a1c6-5596517228d5')\"\n",
              "              title=\"Convert this dataframe to an interactive table.\"\n",
              "              style=\"display:none;\">\n",
              "        \n",
              "  <svg xmlns=\"http://www.w3.org/2000/svg\" height=\"24px\"viewBox=\"0 0 24 24\"\n",
              "       width=\"24px\">\n",
              "    <path d=\"M0 0h24v24H0V0z\" fill=\"none\"/>\n",
              "    <path d=\"M18.56 5.44l.94 2.06.94-2.06 2.06-.94-2.06-.94-.94-2.06-.94 2.06-2.06.94zm-11 1L8.5 8.5l.94-2.06 2.06-.94-2.06-.94L8.5 2.5l-.94 2.06-2.06.94zm10 10l.94 2.06.94-2.06 2.06-.94-2.06-.94-.94-2.06-.94 2.06-2.06.94z\"/><path d=\"M17.41 7.96l-1.37-1.37c-.4-.4-.92-.59-1.43-.59-.52 0-1.04.2-1.43.59L10.3 9.45l-7.72 7.72c-.78.78-.78 2.05 0 2.83L4 21.41c.39.39.9.59 1.41.59.51 0 1.02-.2 1.41-.59l7.78-7.78 2.81-2.81c.8-.78.8-2.07 0-2.86zM5.41 20L4 18.59l7.72-7.72 1.47 1.35L5.41 20z\"/>\n",
              "  </svg>\n",
              "      </button>\n",
              "      \n",
              "  <style>\n",
              "    .colab-df-container {\n",
              "      display:flex;\n",
              "      flex-wrap:wrap;\n",
              "      gap: 12px;\n",
              "    }\n",
              "\n",
              "    .colab-df-convert {\n",
              "      background-color: #E8F0FE;\n",
              "      border: none;\n",
              "      border-radius: 50%;\n",
              "      cursor: pointer;\n",
              "      display: none;\n",
              "      fill: #1967D2;\n",
              "      height: 32px;\n",
              "      padding: 0 0 0 0;\n",
              "      width: 32px;\n",
              "    }\n",
              "\n",
              "    .colab-df-convert:hover {\n",
              "      background-color: #E2EBFA;\n",
              "      box-shadow: 0px 1px 2px rgba(60, 64, 67, 0.3), 0px 1px 3px 1px rgba(60, 64, 67, 0.15);\n",
              "      fill: #174EA6;\n",
              "    }\n",
              "\n",
              "    [theme=dark] .colab-df-convert {\n",
              "      background-color: #3B4455;\n",
              "      fill: #D2E3FC;\n",
              "    }\n",
              "\n",
              "    [theme=dark] .colab-df-convert:hover {\n",
              "      background-color: #434B5C;\n",
              "      box-shadow: 0px 1px 3px 1px rgba(0, 0, 0, 0.15);\n",
              "      filter: drop-shadow(0px 1px 2px rgba(0, 0, 0, 0.3));\n",
              "      fill: #FFFFFF;\n",
              "    }\n",
              "  </style>\n",
              "\n",
              "      <script>\n",
              "        const buttonEl =\n",
              "          document.querySelector('#df-e9693575-4f8e-40c7-a1c6-5596517228d5 button.colab-df-convert');\n",
              "        buttonEl.style.display =\n",
              "          google.colab.kernel.accessAllowed ? 'block' : 'none';\n",
              "\n",
              "        async function convertToInteractive(key) {\n",
              "          const element = document.querySelector('#df-e9693575-4f8e-40c7-a1c6-5596517228d5');\n",
              "          const dataTable =\n",
              "            await google.colab.kernel.invokeFunction('convertToInteractive',\n",
              "                                                     [key], {});\n",
              "          if (!dataTable) return;\n",
              "\n",
              "          const docLinkHtml = 'Like what you see? Visit the ' +\n",
              "            '<a target=\"_blank\" href=https://colab.research.google.com/notebooks/data_table.ipynb>data table notebook</a>'\n",
              "            + ' to learn more about interactive tables.';\n",
              "          element.innerHTML = '';\n",
              "          dataTable['output_type'] = 'display_data';\n",
              "          await google.colab.output.renderOutput(dataTable, element);\n",
              "          const docLink = document.createElement('div');\n",
              "          docLink.innerHTML = docLinkHtml;\n",
              "          element.appendChild(docLink);\n",
              "        }\n",
              "      </script>\n",
              "    </div>\n",
              "  </div>\n",
              "  "
            ]
          },
          "metadata": {},
          "execution_count": 31
        }
      ],
      "source": [
        "type = pd.Series(np.where(data.type == 'red', 1, 0), name='Type')\n",
        "data_1 = data.copy()\n",
        "data_1.type = type\n",
        "data_1.head()"
      ]
    },
    {
      "cell_type": "markdown",
      "id": "20f8b828",
      "metadata": {
        "id": "20f8b828"
      },
      "source": [
        "#### 3.2 Разбираемся с пропусками"
      ]
    },
    {
      "cell_type": "code",
      "execution_count": 32,
      "id": "0f9559f6",
      "metadata": {
        "colab": {
          "base_uri": "https://localhost:8080/"
        },
        "id": "0f9559f6",
        "outputId": "e8aac904-1c52-4f49-9365-e6bedadd8f15"
      },
      "outputs": [
        {
          "output_type": "stream",
          "name": "stdout",
          "text": [
            "Количество строк с пропусками: 38\n"
          ]
        },
        {
          "output_type": "execute_result",
          "data": {
            "text/plain": [
              "6    16\n",
              "5    10\n",
              "7     5\n",
              "4     2\n",
              "8     1\n",
              "Name: quality, dtype: int64"
            ]
          },
          "metadata": {},
          "execution_count": 32
        }
      ],
      "source": [
        "Frames = []\n",
        "for col in data_1.columns:\n",
        "    #print(data[pd.isnull(data[col])])\n",
        "    #df_strings_with_nans.append(data[pd.isnull(data[col])], ignore_index = True)\n",
        "    Frames.append(data_1[pd.isnull(data_1[col])])\n",
        "df_strings_with_nans = pd.concat(Frames)\n",
        "print(f'Количество строк с пропусками: {df_strings_with_nans.quality.count()}')\n",
        "df_res = df_strings_with_nans.drop_duplicates(keep='first')\n",
        "df_res.quality.value_counts()\n",
        "\n",
        "# Учитывая неравномерность выборки и с одной стороны ее достаточно большой объем, а с другой стороны - \n",
        "# малое количество вин с высоким и низким качеством, для нас идеальным будет, если пропуски окажутся \n",
        "# у вин среднего качества. Тогда такие строки можно просто удалить.\n"
      ]
    },
    {
      "cell_type": "code",
      "execution_count": 33,
      "id": "4686a348",
      "metadata": {
        "colab": {
          "base_uri": "https://localhost:8080/",
          "height": 362
        },
        "id": "4686a348",
        "outputId": "638f6295-4a01-41c6-f465-b64983f3ced7"
      },
      "outputs": [
        {
          "output_type": "execute_result",
          "data": {
            "text/plain": [
              "              type  fixed acidity  volatile acidity  citric acid  \\\n",
              "count  6463.000000    6463.000000       6463.000000  6463.000000   \n",
              "mean      0.246480       7.217755          0.339589     0.318758   \n",
              "std       0.430995       1.297913          0.164639     0.145252   \n",
              "min       0.000000       3.800000          0.080000     0.000000   \n",
              "25%       0.000000       6.400000          0.230000     0.250000   \n",
              "50%       0.000000       7.000000          0.290000     0.310000   \n",
              "75%       0.000000       7.700000          0.400000     0.390000   \n",
              "max       1.000000      15.900000          1.580000     1.660000   \n",
              "\n",
              "       residual sugar    chlorides  free sulfur dioxide  total sulfur dioxide  \\\n",
              "count     6463.000000  6463.000000          6463.000000           6463.000000   \n",
              "mean         5.443958     0.056056            30.516865            115.694492   \n",
              "std          4.756852     0.035076            17.758815             56.526736   \n",
              "min          0.600000     0.009000             1.000000              6.000000   \n",
              "25%          1.800000     0.038000            17.000000             77.000000   \n",
              "50%          3.000000     0.047000            29.000000            118.000000   \n",
              "75%          8.100000     0.065000            41.000000            156.000000   \n",
              "max         65.800000     0.611000           289.000000            440.000000   \n",
              "\n",
              "           density           pH    sulphates      alcohol      quality  \n",
              "count  6463.000000  6463.000000  6463.000000  6463.000000  6463.000000  \n",
              "mean      0.994698     3.218332     0.531150    10.492825     5.818505  \n",
              "std       0.003001     0.160650     0.148913     1.193128     0.873286  \n",
              "min       0.987110     2.720000     0.220000     8.000000     3.000000  \n",
              "25%       0.992330     3.110000     0.430000     9.500000     5.000000  \n",
              "50%       0.994890     3.210000     0.510000    10.300000     6.000000  \n",
              "75%       0.997000     3.320000     0.600000    11.300000     6.000000  \n",
              "max       1.038980     4.010000     2.000000    14.900000     9.000000  "
            ],
            "text/html": [
              "\n",
              "  <div id=\"df-d0dd48de-43ef-4f77-8db5-6dd973c3bbe8\">\n",
              "    <div class=\"colab-df-container\">\n",
              "      <div>\n",
              "<style scoped>\n",
              "    .dataframe tbody tr th:only-of-type {\n",
              "        vertical-align: middle;\n",
              "    }\n",
              "\n",
              "    .dataframe tbody tr th {\n",
              "        vertical-align: top;\n",
              "    }\n",
              "\n",
              "    .dataframe thead th {\n",
              "        text-align: right;\n",
              "    }\n",
              "</style>\n",
              "<table border=\"1\" class=\"dataframe\">\n",
              "  <thead>\n",
              "    <tr style=\"text-align: right;\">\n",
              "      <th></th>\n",
              "      <th>type</th>\n",
              "      <th>fixed acidity</th>\n",
              "      <th>volatile acidity</th>\n",
              "      <th>citric acid</th>\n",
              "      <th>residual sugar</th>\n",
              "      <th>chlorides</th>\n",
              "      <th>free sulfur dioxide</th>\n",
              "      <th>total sulfur dioxide</th>\n",
              "      <th>density</th>\n",
              "      <th>pH</th>\n",
              "      <th>sulphates</th>\n",
              "      <th>alcohol</th>\n",
              "      <th>quality</th>\n",
              "    </tr>\n",
              "  </thead>\n",
              "  <tbody>\n",
              "    <tr>\n",
              "      <th>count</th>\n",
              "      <td>6463.000000</td>\n",
              "      <td>6463.000000</td>\n",
              "      <td>6463.000000</td>\n",
              "      <td>6463.000000</td>\n",
              "      <td>6463.000000</td>\n",
              "      <td>6463.000000</td>\n",
              "      <td>6463.000000</td>\n",
              "      <td>6463.000000</td>\n",
              "      <td>6463.000000</td>\n",
              "      <td>6463.000000</td>\n",
              "      <td>6463.000000</td>\n",
              "      <td>6463.000000</td>\n",
              "      <td>6463.000000</td>\n",
              "    </tr>\n",
              "    <tr>\n",
              "      <th>mean</th>\n",
              "      <td>0.246480</td>\n",
              "      <td>7.217755</td>\n",
              "      <td>0.339589</td>\n",
              "      <td>0.318758</td>\n",
              "      <td>5.443958</td>\n",
              "      <td>0.056056</td>\n",
              "      <td>30.516865</td>\n",
              "      <td>115.694492</td>\n",
              "      <td>0.994698</td>\n",
              "      <td>3.218332</td>\n",
              "      <td>0.531150</td>\n",
              "      <td>10.492825</td>\n",
              "      <td>5.818505</td>\n",
              "    </tr>\n",
              "    <tr>\n",
              "      <th>std</th>\n",
              "      <td>0.430995</td>\n",
              "      <td>1.297913</td>\n",
              "      <td>0.164639</td>\n",
              "      <td>0.145252</td>\n",
              "      <td>4.756852</td>\n",
              "      <td>0.035076</td>\n",
              "      <td>17.758815</td>\n",
              "      <td>56.526736</td>\n",
              "      <td>0.003001</td>\n",
              "      <td>0.160650</td>\n",
              "      <td>0.148913</td>\n",
              "      <td>1.193128</td>\n",
              "      <td>0.873286</td>\n",
              "    </tr>\n",
              "    <tr>\n",
              "      <th>min</th>\n",
              "      <td>0.000000</td>\n",
              "      <td>3.800000</td>\n",
              "      <td>0.080000</td>\n",
              "      <td>0.000000</td>\n",
              "      <td>0.600000</td>\n",
              "      <td>0.009000</td>\n",
              "      <td>1.000000</td>\n",
              "      <td>6.000000</td>\n",
              "      <td>0.987110</td>\n",
              "      <td>2.720000</td>\n",
              "      <td>0.220000</td>\n",
              "      <td>8.000000</td>\n",
              "      <td>3.000000</td>\n",
              "    </tr>\n",
              "    <tr>\n",
              "      <th>25%</th>\n",
              "      <td>0.000000</td>\n",
              "      <td>6.400000</td>\n",
              "      <td>0.230000</td>\n",
              "      <td>0.250000</td>\n",
              "      <td>1.800000</td>\n",
              "      <td>0.038000</td>\n",
              "      <td>17.000000</td>\n",
              "      <td>77.000000</td>\n",
              "      <td>0.992330</td>\n",
              "      <td>3.110000</td>\n",
              "      <td>0.430000</td>\n",
              "      <td>9.500000</td>\n",
              "      <td>5.000000</td>\n",
              "    </tr>\n",
              "    <tr>\n",
              "      <th>50%</th>\n",
              "      <td>0.000000</td>\n",
              "      <td>7.000000</td>\n",
              "      <td>0.290000</td>\n",
              "      <td>0.310000</td>\n",
              "      <td>3.000000</td>\n",
              "      <td>0.047000</td>\n",
              "      <td>29.000000</td>\n",
              "      <td>118.000000</td>\n",
              "      <td>0.994890</td>\n",
              "      <td>3.210000</td>\n",
              "      <td>0.510000</td>\n",
              "      <td>10.300000</td>\n",
              "      <td>6.000000</td>\n",
              "    </tr>\n",
              "    <tr>\n",
              "      <th>75%</th>\n",
              "      <td>0.000000</td>\n",
              "      <td>7.700000</td>\n",
              "      <td>0.400000</td>\n",
              "      <td>0.390000</td>\n",
              "      <td>8.100000</td>\n",
              "      <td>0.065000</td>\n",
              "      <td>41.000000</td>\n",
              "      <td>156.000000</td>\n",
              "      <td>0.997000</td>\n",
              "      <td>3.320000</td>\n",
              "      <td>0.600000</td>\n",
              "      <td>11.300000</td>\n",
              "      <td>6.000000</td>\n",
              "    </tr>\n",
              "    <tr>\n",
              "      <th>max</th>\n",
              "      <td>1.000000</td>\n",
              "      <td>15.900000</td>\n",
              "      <td>1.580000</td>\n",
              "      <td>1.660000</td>\n",
              "      <td>65.800000</td>\n",
              "      <td>0.611000</td>\n",
              "      <td>289.000000</td>\n",
              "      <td>440.000000</td>\n",
              "      <td>1.038980</td>\n",
              "      <td>4.010000</td>\n",
              "      <td>2.000000</td>\n",
              "      <td>14.900000</td>\n",
              "      <td>9.000000</td>\n",
              "    </tr>\n",
              "  </tbody>\n",
              "</table>\n",
              "</div>\n",
              "      <button class=\"colab-df-convert\" onclick=\"convertToInteractive('df-d0dd48de-43ef-4f77-8db5-6dd973c3bbe8')\"\n",
              "              title=\"Convert this dataframe to an interactive table.\"\n",
              "              style=\"display:none;\">\n",
              "        \n",
              "  <svg xmlns=\"http://www.w3.org/2000/svg\" height=\"24px\"viewBox=\"0 0 24 24\"\n",
              "       width=\"24px\">\n",
              "    <path d=\"M0 0h24v24H0V0z\" fill=\"none\"/>\n",
              "    <path d=\"M18.56 5.44l.94 2.06.94-2.06 2.06-.94-2.06-.94-.94-2.06-.94 2.06-2.06.94zm-11 1L8.5 8.5l.94-2.06 2.06-.94-2.06-.94L8.5 2.5l-.94 2.06-2.06.94zm10 10l.94 2.06.94-2.06 2.06-.94-2.06-.94-.94-2.06-.94 2.06-2.06.94z\"/><path d=\"M17.41 7.96l-1.37-1.37c-.4-.4-.92-.59-1.43-.59-.52 0-1.04.2-1.43.59L10.3 9.45l-7.72 7.72c-.78.78-.78 2.05 0 2.83L4 21.41c.39.39.9.59 1.41.59.51 0 1.02-.2 1.41-.59l7.78-7.78 2.81-2.81c.8-.78.8-2.07 0-2.86zM5.41 20L4 18.59l7.72-7.72 1.47 1.35L5.41 20z\"/>\n",
              "  </svg>\n",
              "      </button>\n",
              "      \n",
              "  <style>\n",
              "    .colab-df-container {\n",
              "      display:flex;\n",
              "      flex-wrap:wrap;\n",
              "      gap: 12px;\n",
              "    }\n",
              "\n",
              "    .colab-df-convert {\n",
              "      background-color: #E8F0FE;\n",
              "      border: none;\n",
              "      border-radius: 50%;\n",
              "      cursor: pointer;\n",
              "      display: none;\n",
              "      fill: #1967D2;\n",
              "      height: 32px;\n",
              "      padding: 0 0 0 0;\n",
              "      width: 32px;\n",
              "    }\n",
              "\n",
              "    .colab-df-convert:hover {\n",
              "      background-color: #E2EBFA;\n",
              "      box-shadow: 0px 1px 2px rgba(60, 64, 67, 0.3), 0px 1px 3px 1px rgba(60, 64, 67, 0.15);\n",
              "      fill: #174EA6;\n",
              "    }\n",
              "\n",
              "    [theme=dark] .colab-df-convert {\n",
              "      background-color: #3B4455;\n",
              "      fill: #D2E3FC;\n",
              "    }\n",
              "\n",
              "    [theme=dark] .colab-df-convert:hover {\n",
              "      background-color: #434B5C;\n",
              "      box-shadow: 0px 1px 3px 1px rgba(0, 0, 0, 0.15);\n",
              "      filter: drop-shadow(0px 1px 2px rgba(0, 0, 0, 0.3));\n",
              "      fill: #FFFFFF;\n",
              "    }\n",
              "  </style>\n",
              "\n",
              "      <script>\n",
              "        const buttonEl =\n",
              "          document.querySelector('#df-d0dd48de-43ef-4f77-8db5-6dd973c3bbe8 button.colab-df-convert');\n",
              "        buttonEl.style.display =\n",
              "          google.colab.kernel.accessAllowed ? 'block' : 'none';\n",
              "\n",
              "        async function convertToInteractive(key) {\n",
              "          const element = document.querySelector('#df-d0dd48de-43ef-4f77-8db5-6dd973c3bbe8');\n",
              "          const dataTable =\n",
              "            await google.colab.kernel.invokeFunction('convertToInteractive',\n",
              "                                                     [key], {});\n",
              "          if (!dataTable) return;\n",
              "\n",
              "          const docLinkHtml = 'Like what you see? Visit the ' +\n",
              "            '<a target=\"_blank\" href=https://colab.research.google.com/notebooks/data_table.ipynb>data table notebook</a>'\n",
              "            + ' to learn more about interactive tables.';\n",
              "          element.innerHTML = '';\n",
              "          dataTable['output_type'] = 'display_data';\n",
              "          await google.colab.output.renderOutput(dataTable, element);\n",
              "          const docLink = document.createElement('div');\n",
              "          docLink.innerHTML = docLinkHtml;\n",
              "          element.appendChild(docLink);\n",
              "        }\n",
              "      </script>\n",
              "    </div>\n",
              "  </div>\n",
              "  "
            ]
          },
          "metadata": {},
          "execution_count": 33
        }
      ],
      "source": [
        "# Так и получилось. Удалим спокойно такие строки и проверим параметры:\n",
        "data_2 = data_1.copy().dropna()\n",
        "data_2.describe()"
      ]
    },
    {
      "cell_type": "markdown",
      "id": "4fbfeec2",
      "metadata": {
        "id": "4fbfeec2"
      },
      "source": [
        "#### 3.3 Выбросы\n",
        "При просмотре некоторых ящиков с усами были замечены кандидаты на выбросы.\n",
        "\n",
        "Можно применить метод анализа с помощью z-индекса (отношение реального отклонения величины к среднеквадратичному отклонению)\n",
        "\n",
        "Можно считать потенциальным выбросом параметр, для которого z-индекс превышает по модулю 3.5 (обычно берут 3, но можно немного расширить диапазон)\n",
        "\n",
        "Точно так же можно использовать вместо z-индекса и какой-то иной критерий проверки.\n",
        "\n",
        "При этом кажется разумным искать выбросы для каждого параметра не по всей выборке \"оптом\", а отдельно для каждого целевого значения.\n"
      ]
    },
    {
      "cell_type": "code",
      "execution_count": 34,
      "id": "044658a3",
      "metadata": {
        "colab": {
          "base_uri": "https://localhost:8080/"
        },
        "id": "044658a3",
        "outputId": "bb8df7d4-e021-48fa-fe4f-f28a15cea8f8"
      },
      "outputs": [
        {
          "output_type": "execute_result",
          "data": {
            "text/plain": [
              "1    262\n",
              "2     33\n",
              "3      2\n",
              "Name: outlies, dtype: Int64"
            ]
          },
          "metadata": {},
          "execution_count": 34
        }
      ],
      "source": [
        "# используем библиотеку stats\n",
        "import scipy.stats as stats\n",
        "\n",
        "# создаем копию датасета\n",
        "data_3 = data_2.copy()\n",
        "\n",
        "# получаем справочник категории Качество (наша целевая переменная quality)\n",
        "qualities = data_3.quality.unique()\n",
        "\n",
        "# создаем шаблон колонки с нулями\n",
        "zeros_col = pd.Series(np.zeros((data_3.shape[0]))).astype(\"Int64\")  \n",
        "\n",
        "# добавляем колонку, где будем считать выбросы\n",
        "data_3['outlies'] = zeros_col\n",
        "\n",
        "# в первом цикле перебираем колонки\n",
        "for col in data_3.columns[0:-2]:\n",
        "    # добавляем колонку для фиксации выброса по текущей колонке с данными\n",
        "    data_3[col + '_'] = zeros_col\n",
        "    \n",
        "    # воторой цикл - перебираем типы стекла и для каждого из них считаем z-индексы в текущей колонке\n",
        "    for qual in qualities:\n",
        "        data_3.loc[(data_3.quality == qual), col + '_'] = \\\n",
        "            ((data_3.loc[(data_3.quality == qual)][col] - data_3.loc[(data_3.quality == qual)][col].mean())/\n",
        "             data_3.loc[(data_3.quality == qual)][col].std()).apply(lambda x: 1 if np.abs(x)>3.5 else 0)\n",
        "\n",
        "    # добавляем выбросы по текущей колонке к колонке, суммирующей выбросы по каждой строке\n",
        "    data_3['outlies'] = data_3['outlies'] + data_3[col+'_']\n",
        "    \n",
        "# смотрим, что получается, сразу оставляя только строки, в которых есть хотя бы один выброс    \n",
        "outlies_data = data_3[(data_3.outlies > 0)]\n",
        "outlies_data.outlies.value_counts()\n",
        "\n",
        "# Мы видим, что у нас есть одно вино, для которого выбросы зафиксированы на уровне 4 параметров,\n",
        "# 10 вин с 3 параметрами с выбросами и 58 вин с двумя выбросами."
      ]
    },
    {
      "cell_type": "markdown",
      "id": "51177f59",
      "metadata": {
        "id": "51177f59"
      },
      "source": [
        "#### 3.4 Удаляем выбросы и формируем выборки X и y"
      ]
    },
    {
      "cell_type": "code",
      "execution_count": 35,
      "id": "fb3dcb70",
      "metadata": {
        "colab": {
          "base_uri": "https://localhost:8080/",
          "height": 223
        },
        "id": "fb3dcb70",
        "outputId": "9ecefb64-506a-4dd2-e7d5-a0cdb92fd977"
      },
      "outputs": [
        {
          "output_type": "stream",
          "name": "stdout",
          "text": [
            "Исходная длина датасета 6497, длина после чистки 6396 или 98.44543635524089%\n"
          ]
        },
        {
          "output_type": "execute_result",
          "data": {
            "text/plain": [
              "   type  fixed acidity  volatile acidity  citric acid  residual sugar  \\\n",
              "0     0            7.0              0.27         0.36            20.7   \n",
              "1     0            6.3              0.30         0.34             1.6   \n",
              "2     0            8.1              0.28         0.40             6.9   \n",
              "3     0            7.2              0.23         0.32             8.5   \n",
              "4     0            7.2              0.23         0.32             8.5   \n",
              "\n",
              "   chlorides  free sulfur dioxide  total sulfur dioxide  density    pH  \\\n",
              "0      0.045                 45.0                 170.0   1.0010  3.00   \n",
              "1      0.049                 14.0                 132.0   0.9940  3.30   \n",
              "2      0.050                 30.0                  97.0   0.9951  3.26   \n",
              "3      0.058                 47.0                 186.0   0.9956  3.19   \n",
              "4      0.058                 47.0                 186.0   0.9956  3.19   \n",
              "\n",
              "   sulphates  alcohol  \n",
              "0       0.45      8.8  \n",
              "1       0.49      9.5  \n",
              "2       0.44     10.1  \n",
              "3       0.40      9.9  \n",
              "4       0.40      9.9  "
            ],
            "text/html": [
              "\n",
              "  <div id=\"df-68b711c6-3fd1-40db-8afb-944ae68cf799\">\n",
              "    <div class=\"colab-df-container\">\n",
              "      <div>\n",
              "<style scoped>\n",
              "    .dataframe tbody tr th:only-of-type {\n",
              "        vertical-align: middle;\n",
              "    }\n",
              "\n",
              "    .dataframe tbody tr th {\n",
              "        vertical-align: top;\n",
              "    }\n",
              "\n",
              "    .dataframe thead th {\n",
              "        text-align: right;\n",
              "    }\n",
              "</style>\n",
              "<table border=\"1\" class=\"dataframe\">\n",
              "  <thead>\n",
              "    <tr style=\"text-align: right;\">\n",
              "      <th></th>\n",
              "      <th>type</th>\n",
              "      <th>fixed acidity</th>\n",
              "      <th>volatile acidity</th>\n",
              "      <th>citric acid</th>\n",
              "      <th>residual sugar</th>\n",
              "      <th>chlorides</th>\n",
              "      <th>free sulfur dioxide</th>\n",
              "      <th>total sulfur dioxide</th>\n",
              "      <th>density</th>\n",
              "      <th>pH</th>\n",
              "      <th>sulphates</th>\n",
              "      <th>alcohol</th>\n",
              "    </tr>\n",
              "  </thead>\n",
              "  <tbody>\n",
              "    <tr>\n",
              "      <th>0</th>\n",
              "      <td>0</td>\n",
              "      <td>7.0</td>\n",
              "      <td>0.27</td>\n",
              "      <td>0.36</td>\n",
              "      <td>20.7</td>\n",
              "      <td>0.045</td>\n",
              "      <td>45.0</td>\n",
              "      <td>170.0</td>\n",
              "      <td>1.0010</td>\n",
              "      <td>3.00</td>\n",
              "      <td>0.45</td>\n",
              "      <td>8.8</td>\n",
              "    </tr>\n",
              "    <tr>\n",
              "      <th>1</th>\n",
              "      <td>0</td>\n",
              "      <td>6.3</td>\n",
              "      <td>0.30</td>\n",
              "      <td>0.34</td>\n",
              "      <td>1.6</td>\n",
              "      <td>0.049</td>\n",
              "      <td>14.0</td>\n",
              "      <td>132.0</td>\n",
              "      <td>0.9940</td>\n",
              "      <td>3.30</td>\n",
              "      <td>0.49</td>\n",
              "      <td>9.5</td>\n",
              "    </tr>\n",
              "    <tr>\n",
              "      <th>2</th>\n",
              "      <td>0</td>\n",
              "      <td>8.1</td>\n",
              "      <td>0.28</td>\n",
              "      <td>0.40</td>\n",
              "      <td>6.9</td>\n",
              "      <td>0.050</td>\n",
              "      <td>30.0</td>\n",
              "      <td>97.0</td>\n",
              "      <td>0.9951</td>\n",
              "      <td>3.26</td>\n",
              "      <td>0.44</td>\n",
              "      <td>10.1</td>\n",
              "    </tr>\n",
              "    <tr>\n",
              "      <th>3</th>\n",
              "      <td>0</td>\n",
              "      <td>7.2</td>\n",
              "      <td>0.23</td>\n",
              "      <td>0.32</td>\n",
              "      <td>8.5</td>\n",
              "      <td>0.058</td>\n",
              "      <td>47.0</td>\n",
              "      <td>186.0</td>\n",
              "      <td>0.9956</td>\n",
              "      <td>3.19</td>\n",
              "      <td>0.40</td>\n",
              "      <td>9.9</td>\n",
              "    </tr>\n",
              "    <tr>\n",
              "      <th>4</th>\n",
              "      <td>0</td>\n",
              "      <td>7.2</td>\n",
              "      <td>0.23</td>\n",
              "      <td>0.32</td>\n",
              "      <td>8.5</td>\n",
              "      <td>0.058</td>\n",
              "      <td>47.0</td>\n",
              "      <td>186.0</td>\n",
              "      <td>0.9956</td>\n",
              "      <td>3.19</td>\n",
              "      <td>0.40</td>\n",
              "      <td>9.9</td>\n",
              "    </tr>\n",
              "  </tbody>\n",
              "</table>\n",
              "</div>\n",
              "      <button class=\"colab-df-convert\" onclick=\"convertToInteractive('df-68b711c6-3fd1-40db-8afb-944ae68cf799')\"\n",
              "              title=\"Convert this dataframe to an interactive table.\"\n",
              "              style=\"display:none;\">\n",
              "        \n",
              "  <svg xmlns=\"http://www.w3.org/2000/svg\" height=\"24px\"viewBox=\"0 0 24 24\"\n",
              "       width=\"24px\">\n",
              "    <path d=\"M0 0h24v24H0V0z\" fill=\"none\"/>\n",
              "    <path d=\"M18.56 5.44l.94 2.06.94-2.06 2.06-.94-2.06-.94-.94-2.06-.94 2.06-2.06.94zm-11 1L8.5 8.5l.94-2.06 2.06-.94-2.06-.94L8.5 2.5l-.94 2.06-2.06.94zm10 10l.94 2.06.94-2.06 2.06-.94-2.06-.94-.94-2.06-.94 2.06-2.06.94z\"/><path d=\"M17.41 7.96l-1.37-1.37c-.4-.4-.92-.59-1.43-.59-.52 0-1.04.2-1.43.59L10.3 9.45l-7.72 7.72c-.78.78-.78 2.05 0 2.83L4 21.41c.39.39.9.59 1.41.59.51 0 1.02-.2 1.41-.59l7.78-7.78 2.81-2.81c.8-.78.8-2.07 0-2.86zM5.41 20L4 18.59l7.72-7.72 1.47 1.35L5.41 20z\"/>\n",
              "  </svg>\n",
              "      </button>\n",
              "      \n",
              "  <style>\n",
              "    .colab-df-container {\n",
              "      display:flex;\n",
              "      flex-wrap:wrap;\n",
              "      gap: 12px;\n",
              "    }\n",
              "\n",
              "    .colab-df-convert {\n",
              "      background-color: #E8F0FE;\n",
              "      border: none;\n",
              "      border-radius: 50%;\n",
              "      cursor: pointer;\n",
              "      display: none;\n",
              "      fill: #1967D2;\n",
              "      height: 32px;\n",
              "      padding: 0 0 0 0;\n",
              "      width: 32px;\n",
              "    }\n",
              "\n",
              "    .colab-df-convert:hover {\n",
              "      background-color: #E2EBFA;\n",
              "      box-shadow: 0px 1px 2px rgba(60, 64, 67, 0.3), 0px 1px 3px 1px rgba(60, 64, 67, 0.15);\n",
              "      fill: #174EA6;\n",
              "    }\n",
              "\n",
              "    [theme=dark] .colab-df-convert {\n",
              "      background-color: #3B4455;\n",
              "      fill: #D2E3FC;\n",
              "    }\n",
              "\n",
              "    [theme=dark] .colab-df-convert:hover {\n",
              "      background-color: #434B5C;\n",
              "      box-shadow: 0px 1px 3px 1px rgba(0, 0, 0, 0.15);\n",
              "      filter: drop-shadow(0px 1px 2px rgba(0, 0, 0, 0.3));\n",
              "      fill: #FFFFFF;\n",
              "    }\n",
              "  </style>\n",
              "\n",
              "      <script>\n",
              "        const buttonEl =\n",
              "          document.querySelector('#df-68b711c6-3fd1-40db-8afb-944ae68cf799 button.colab-df-convert');\n",
              "        buttonEl.style.display =\n",
              "          google.colab.kernel.accessAllowed ? 'block' : 'none';\n",
              "\n",
              "        async function convertToInteractive(key) {\n",
              "          const element = document.querySelector('#df-68b711c6-3fd1-40db-8afb-944ae68cf799');\n",
              "          const dataTable =\n",
              "            await google.colab.kernel.invokeFunction('convertToInteractive',\n",
              "                                                     [key], {});\n",
              "          if (!dataTable) return;\n",
              "\n",
              "          const docLinkHtml = 'Like what you see? Visit the ' +\n",
              "            '<a target=\"_blank\" href=https://colab.research.google.com/notebooks/data_table.ipynb>data table notebook</a>'\n",
              "            + ' to learn more about interactive tables.';\n",
              "          element.innerHTML = '';\n",
              "          dataTable['output_type'] = 'display_data';\n",
              "          await google.colab.output.renderOutput(dataTable, element);\n",
              "          const docLink = document.createElement('div');\n",
              "          docLink.innerHTML = docLinkHtml;\n",
              "          element.appendChild(docLink);\n",
              "        }\n",
              "      </script>\n",
              "    </div>\n",
              "  </div>\n",
              "  "
            ]
          },
          "metadata": {},
          "execution_count": 35
        }
      ],
      "source": [
        "# Разделяем данные. Считаем выбросами только те колонки, в которых как минимум по двум параметрам фиксируется выброс.\n",
        "X = data_3[(data_3.outlies < 2)].iloc[:, 0:-14]\n",
        "y = data_3[(data_3.outlies < 2)].iloc[:, -14]\n",
        "print(f'Исходная длина датасета {data.shape[0]}, длина после чистки {X.shape[0]} или {100*X.shape[0]/data.shape[0]}%')\n",
        "X.head()\n",
        "\n",
        "# В результате удалено примерно 1.5 процента исходных данных. Возможно, это - ошибочное решение. Время покажет."
      ]
    },
    {
      "cell_type": "markdown",
      "id": "4073ebf5",
      "metadata": {
        "id": "4073ebf5"
      },
      "source": [
        "#### 3.5 Мультиколлинеарность\n",
        "Теоретически можно было бы также провести эксперименты с удалением пары столбцов, значения в которых имеют заметную корреляцию с другими столбцами, имея при этом мЕньшую корреляцию с целевой переменной.\n",
        "Выбор таких столбцов может быть основан на анализе тепловой карты\n",
        "Так, из пары 'residual sugar' и 'density' можно попробовать убрать из датасета колонку 'residual sugar'\n",
        "а из пары 'chlorides' 'sulphates' убрать 'chlorides'"
      ]
    },
    {
      "cell_type": "markdown",
      "id": "51179244",
      "metadata": {
        "id": "51179244"
      },
      "source": [
        "#### 3.6 Нормализация данных\n",
        "При использовании логистической регрессии будет рациональным предварительно нормализовать данные по параметрам.\n",
        "Так и поступим."
      ]
    },
    {
      "cell_type": "code",
      "execution_count": 36,
      "id": "cb7b43c5",
      "metadata": {
        "id": "cb7b43c5"
      },
      "outputs": [],
      "source": [
        "from sklearn.preprocessing import MinMaxScaler\n",
        "MMScaler = MinMaxScaler()\n",
        "X_scale = MMScaler.fit_transform(X)\n"
      ]
    },
    {
      "cell_type": "markdown",
      "id": "9d6df0bc",
      "metadata": {
        "id": "9d6df0bc"
      },
      "source": [
        "## 4. Моделирование\n",
        "Для моделирования используем логистическую регрессию."
      ]
    },
    {
      "cell_type": "code",
      "execution_count": 37,
      "id": "6b9f4224",
      "metadata": {
        "id": "6b9f4224"
      },
      "outputs": [],
      "source": [
        "from sklearn.linear_model import LogisticRegression\n",
        "from sklearn.model_selection import train_test_split"
      ]
    },
    {
      "cell_type": "code",
      "execution_count": 38,
      "id": "92834d1c",
      "metadata": {
        "id": "92834d1c"
      },
      "outputs": [],
      "source": [
        "X_train, X_test, y_train, y_test = train_test_split(X_scale, y, test_size=0.2, random_state=42)"
      ]
    },
    {
      "cell_type": "code",
      "execution_count": 39,
      "id": "eb403d9e",
      "metadata": {
        "colab": {
          "base_uri": "https://localhost:8080/"
        },
        "id": "eb403d9e",
        "outputId": "e5356476-0d66-49fc-f86c-e0aa98380423"
      },
      "outputs": [
        {
          "output_type": "execute_result",
          "data": {
            "text/plain": [
              "LogisticRegression(max_iter=500)"
            ]
          },
          "metadata": {},
          "execution_count": 39
        }
      ],
      "source": [
        "# Создаем модель и обучаем ее\n",
        "lite_model = LogisticRegression(max_iter=500)\n",
        "lite_model.fit(X_train, y_train)\n"
      ]
    },
    {
      "cell_type": "markdown",
      "id": "67c915da",
      "metadata": {
        "id": "67c915da"
      },
      "source": [
        "## 5. Оценка решения"
      ]
    },
    {
      "cell_type": "markdown",
      "id": "0baac1e2",
      "metadata": {
        "id": "0baac1e2"
      },
      "source": [
        "#### 5.1 Предсказываем и сравниваем предсказание и реальность"
      ]
    },
    {
      "cell_type": "code",
      "execution_count": 40,
      "id": "b428ad8b",
      "metadata": {
        "colab": {
          "base_uri": "https://localhost:8080/"
        },
        "id": "b428ad8b",
        "outputId": "5aaf2927-8d0a-44e9-8c03-49d4dc49f460"
      },
      "outputs": [
        {
          "output_type": "stream",
          "name": "stdout",
          "text": [
            "Предсказание (первые 40 из тестовой части выборки):\n",
            "[6, 6, 5, 6, 5, 6, 6, 5, 6, 6, 6, 5, 5, 5, 6, 6, 6, 6, 6, 6, 6, 6, 6, 6, 6, 6, 6, 6, 5, 5, 6, 6, 6, 6, 6, 5, 6, 6, 6, 6]\n",
            "А на самом деле:\n",
            "[6, 5, 5, 5, 5, 7, 8, 5, 6, 6, 6, 6, 5, 5, 6, 7, 6, 6, 7, 5, 6, 7, 7, 7, 6, 5, 8, 6, 5, 5, 7, 5, 7, 6, 7, 6, 5, 6, 7, 6]\n"
          ]
        }
      ],
      "source": [
        "# Предсказываем:\n",
        "predictions = lite_model.predict(X_test)\n",
        "\n",
        "# Сравним первые 40 значений. Не забываем, что 1 - пассажир выжил, 0 - нет.\n",
        "print(f'Предсказание (первые 40 из тестовой части выборки):\\n{pd.Series(predictions[0:40]).to_list()}')\n",
        "print(f'А на самом деле:\\n{y_test[0:40].to_list()}')"
      ]
    },
    {
      "cell_type": "markdown",
      "id": "59ef02ba",
      "metadata": {
        "id": "59ef02ba"
      },
      "source": [
        "#### 5.2 Смотрим метрики для тренировочных и тестовых данных"
      ]
    },
    {
      "cell_type": "code",
      "execution_count": 41,
      "id": "e673c1bb",
      "metadata": {
        "colab": {
          "base_uri": "https://localhost:8080/"
        },
        "id": "e673c1bb",
        "outputId": "71732956-36a7-4cd6-ba83-37f7ec43ccf5"
      },
      "outputs": [
        {
          "output_type": "stream",
          "name": "stdout",
          "text": [
            "0.5431978107896794 0.553125\n"
          ]
        }
      ],
      "source": [
        "print(lite_model.score(X_train, y_train), lite_model.score(X_test, y_test))"
      ]
    },
    {
      "cell_type": "markdown",
      "id": "fbdb2dbc",
      "metadata": {
        "id": "fbdb2dbc"
      },
      "source": [
        "#### 5.3 Принятие решения об изменении алгоритмов подготовки данных\n",
        "В данном случае полученные оценки (метрики) для получившейся модели кажутся крайне низкими, и конечно возникает естественное желание изменить либо технологию подготовки данных, либо использовать другие модели для предсказаний.\n",
        "В этой связи при нормальном подходе на данном этапе, в прямом соответствии с моделью CrispDM, следовало бы вернуться к началу цикла."
      ]
    },
    {
      "cell_type": "markdown",
      "id": "c5277002",
      "metadata": {
        "id": "c5277002"
      },
      "source": [
        "## 6. Внедрение\n",
        "Поскольку в качестве задания выбран датасет из Kaggle, внедрением можно считать получение предсказания на основе построенной модели и его публикация в общей таблице результатов этой платформы."
      ]
    },
    {
      "cell_type": "code",
      "execution_count": 42,
      "id": "402f97ae",
      "metadata": {
        "colab": {
          "base_uri": "https://localhost:8080/"
        },
        "id": "402f97ae",
        "outputId": "4e1799b9-b304-48d9-e173-d437162d3c0d"
      },
      "outputs": [
        {
          "output_type": "execute_result",
          "data": {
            "text/plain": [
              "array([6, 6, 5, ..., 6, 6, 5])"
            ]
          },
          "metadata": {},
          "execution_count": 42
        }
      ],
      "source": [
        "result = lite_model.predict(X_test)\n",
        "result\n",
        "# Поскольку для этого задания на kaggle тестовый датасет не задан, \n",
        "# решением, очевидно, является обученная модель и ее метрики. \n",
        "# Учитывая то, что среди решений опубликованы варианты с точностью предсказания более 99%,\n",
        "# мне с моим 55-процентным результатом есть куда расти :)"
      ]
    },
    {
      "cell_type": "markdown",
      "source": [
        "# Отчет\n",
        "## В работе исследованы следующие этапы:\n",
        "\n",
        "## Бизнес анализ\n",
        "- поставлены цели задачи. Предсказание качества вина на основании его физико-химических характеристик.\n",
        "- найдены доступные данные. На основании описания датасета на сайте Kaggle (см. ссылку выше), а также других открытых источников становится понятно, что текущий набор данных содержит информацию только о физико-химических характеристиках Португальских белых и красных вин Vinho Verde, полученных путем проведения различных лабораторных измерений и тестов.\n",
        "- определены признаки датасета\n",
        "\n",
        "## Анализ данных\n",
        "\n",
        "- пронализирован состав параметров и их основные метрики\n",
        "- просчитаны пропуски пропуски\n",
        "- определено распределение целевого параметра\n",
        "- составлена тепловая карта параметров включая целевую переменную\n",
        "На этой диаграмме видно, что наибольшее влияние на качество вин оказывают уровень алкоголя и плотность (alcohol - density)\n",
        "- использован boxplot для анализа влияния отдельных параметров на целевой параметр\n",
        "\n",
        "## Подготовка данных\n",
        "\n",
        "- преобразование категориальной переменной type\n",
        "- произведена работа с пропусками\n",
        "- определены  выбросы\n",
        "- удалены выбросы и сформированы выборки X и y\n",
        "- Нормализованы  данные при помощи MinMaxScaler\n",
        "\n",
        "## Моделирование\n",
        "\n",
        "- для моделирования используем логистическую регрессию\n",
        "\n",
        "## Оценка решения\n",
        "\n",
        "- сравниваем предсказание и реальность\n",
        "- определены метрики для тренировочных и тестовых данных\n",
        "\n",
        "## Внедрение\n",
        "- покольку в качестве задания выбран датасет из Kaggle, внедрением можно считать получение предсказания на основе построенной модели и его публикация в общей таблице результатов этой платформы."
      ],
      "metadata": {
        "id": "KbQUEzqkkU1a"
      },
      "id": "KbQUEzqkkU1a"
    }
  ],
  "metadata": {
    "kernelspec": {
      "display_name": "Python 3",
      "language": "python",
      "name": "python3"
    },
    "language_info": {
      "codemirror_mode": {
        "name": "ipython",
        "version": 3
      },
      "file_extension": ".py",
      "mimetype": "text/x-python",
      "name": "python",
      "nbconvert_exporter": "python",
      "pygments_lexer": "ipython3",
      "version": "3.8.8"
    },
    "colab": {
      "name": "hw_zak_2.ipynb",
      "provenance": []
    }
  },
  "nbformat": 4,
  "nbformat_minor": 5
}